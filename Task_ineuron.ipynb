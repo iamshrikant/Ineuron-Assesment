{
  "nbformat": 4,
  "nbformat_minor": 0,
  "metadata": {
    "colab": {
      "name": "Task-ineuron",
      "provenance": [],
      "collapsed_sections": [],
      "mount_file_id": "1M3bcn1sPLwoajr_hjT63EKlrELiVylhw",
      "authorship_tag": "ABX9TyNwgk/nHm5QTacuME3H85Ev",
      "include_colab_link": true
    },
    "kernelspec": {
      "name": "python3",
      "display_name": "Python 3"
    },
    "language_info": {
      "name": "python"
    }
  },
  "cells": [
    {
      "cell_type": "markdown",
      "metadata": {
        "id": "view-in-github",
        "colab_type": "text"
      },
      "source": [
        "<a href=\"https://colab.research.google.com/github/iamshrikant/Ineuron-Assesment/blob/main/Task_ineuron.ipynb\" target=\"_parent\"><img src=\"https://colab.research.google.com/assets/colab-badge.svg\" alt=\"Open In Colab\"/></a>"
      ]
    },
    {
      "cell_type": "code",
      "execution_count": null,
      "metadata": {
        "id": "aXIY0X9voELM"
      },
      "outputs": [],
      "source": [
        "import os\n",
        "from pathlib import Path\n",
        "ROOT = \"/content/drive/MyDrive/Ineuron Assesment\"\n",
        "os.chdir(ROOT)"
      ]
    },
    {
      "cell_type": "markdown",
      "source": [
        "Creating the example.txt file"
      ],
      "metadata": {
        "id": "SU6UP8x3spIp"
      }
    },
    {
      "cell_type": "code",
      "source": [
        "file1 = open(\"example.txt\",'rt')"
      ],
      "metadata": {
        "id": "D-VrRbdcsnEq"
      },
      "execution_count": null,
      "outputs": []
    },
    {
      "cell_type": "markdown",
      "source": [
        "creating the function to replace the new file from the existing file\n"
      ],
      "metadata": {
        "id": "NThmT2kItSzZ"
      }
    },
    {
      "cell_type": "code",
      "source": [
        "def replacefile(originfile , replacefile):\n",
        "  #creating the file\n",
        "  \n",
        "  file1 = Path(\"/content/drive/MyDrive/Ineuron Assesment/example.txt\")\n",
        "\n",
        "  # reading the content of the file\n",
        "  \n",
        "  data = file1.read_text()\n",
        "\n",
        "  # replacing the text using the replace function\n",
        "\n",
        "  data = data.replace(originfile , replacefile)\n",
        "\n",
        "  #writing the data of the file\n",
        "  file1.write_text(data)\n",
        "\n",
        "  return \"file is been replaced\"\n",
        "\n"
      ],
      "metadata": {
        "id": "j3GA2zBptbgy"
      },
      "execution_count": null,
      "outputs": []
    },
    {
      "cell_type": "code",
      "source": [
        "replacefile(\"This is a placement assignment\" , \"This is a screening assignment\")"
      ],
      "metadata": {
        "colab": {
          "base_uri": "https://localhost:8080/",
          "height": 35
        },
        "id": "tgiE19mRvAoK",
        "outputId": "b2cc6466-505b-4b1a-e330-c4fb261dd92d"
      },
      "execution_count": null,
      "outputs": [
        {
          "output_type": "execute_result",
          "data": {
            "text/plain": [
              "'file is been replaced'"
            ],
            "application/vnd.google.colaboratory.intrinsic+json": {
              "type": "string"
            }
          },
          "metadata": {},
          "execution_count": 30
        }
      ]
    },
    {
      "cell_type": "code",
      "source": [
        ""
      ],
      "metadata": {
        "id": "QlgPzPxbxL7R"
      },
      "execution_count": null,
      "outputs": []
    },
    {
      "cell_type": "markdown",
      "source": [
        "## Abstract class\n",
        "so in python there is no inbuilt abstract class method.Therefore defining the abstract class from the base method module."
      ],
      "metadata": {
        "id": "LhHVTkep0C0R"
      }
    },
    {
      "cell_type": "code",
      "source": [
        "from abc import ABC"
      ],
      "metadata": {
        "id": "PnwSEg2Uz4Dj"
      },
      "execution_count": null,
      "outputs": []
    },
    {
      "cell_type": "code",
      "source": [
        "class company(ABC):\n",
        "  def work(self):\n",
        "    pass\n",
        "\n",
        "class Boss(company):\n",
        "  def work(self):\n",
        "    print(\"i am the boss of the company\")\n",
        "  \n",
        "class seniormanager(company):\n",
        "  def work(self):\n",
        "    print(\"I am the senior manager of the company\")\n",
        "\n",
        "class projectmanager(company):\n",
        "  def work(self):\n",
        "    print(\"I am project manager\")\n",
        "\n",
        "class employee(company):\n",
        "  def work(self):\n",
        "    print(\"i am employee of the company\")\n"
      ],
      "metadata": {
        "id": "_XkCZUov03Ij"
      },
      "execution_count": null,
      "outputs": []
    },
    {
      "cell_type": "code",
      "source": [
        "B = Boss()\n",
        "B.work()\n",
        "\n",
        "S = seniormanager()\n",
        "S.work()\n",
        "\n",
        "P = projectmanager()\n",
        "P.work()\n",
        "\n",
        "e = employee()\n",
        "e.work()"
      ],
      "metadata": {
        "colab": {
          "base_uri": "https://localhost:8080/"
        },
        "id": "LxqqPkJZ2K4h",
        "outputId": "2e9148e6-5f4b-494e-e87a-7c19d845e491"
      },
      "execution_count": null,
      "outputs": [
        {
          "output_type": "stream",
          "name": "stdout",
          "text": [
            "i am the boss of the company\n",
            "I am the senior manager of the company\n",
            "I am project manager\n",
            "i am employee of the company\n"
          ]
        }
      ]
    },
    {
      "cell_type": "markdown",
      "source": [
        "## Multiple Inheritance\n",
        "\n",
        "Creating of the multiple child classes from the derived class "
      ],
      "metadata": {
        "id": "clRQi4o72xTh"
      }
    },
    {
      "cell_type": "code",
      "source": [
        "class Employees(): \n",
        " \n",
        "   def Name(self): \n",
        "       print(\"Employee Name: shrikant\")\n",
        " \n",
        "class salary():\n",
        "   def Salary(self):\n",
        "       print(\"Salary: 10000\")\n",
        " \n",
        "class Designation(Employees, salary):\n",
        "   def desig(self):\n",
        "       print(\"Designation: data scientist intern\")\n",
        " \n",
        "call = Designation()\n",
        "call.Name()\n",
        "call.Salary()\n",
        "call.desig()"
      ],
      "metadata": {
        "id": "CnJNhRro20_K",
        "colab": {
          "base_uri": "https://localhost:8080/"
        },
        "outputId": "b26ad3eb-56e4-494c-f9ad-ce66d604a8a6"
      },
      "execution_count": 38,
      "outputs": [
        {
          "output_type": "stream",
          "name": "stdout",
          "text": [
            "Employee Name: shrikant\n",
            "Salary: 10000\n",
            "Designation: data scientist intern\n"
          ]
        }
      ]
    },
    {
      "cell_type": "markdown",
      "source": [
        "## Decorator\n",
        "\n",
        "Creating of the new function from the existing function or add some extra functionality.The above function is called as wrapper function"
      ],
      "metadata": {
        "id": "KYY5YaSE4vbY"
      }
    },
    {
      "cell_type": "code",
      "source": [
        "def decorator_it(func):\n",
        "  def add_dec():\n",
        "    print('*'*5)\n",
        "    func()\n",
        "    print('*'*5)\n",
        "  return add_dec\n",
        "\n",
        "@decorator_it\n",
        "def print_name():\n",
        "  print(\"hello my name is shrikant\")\n"
      ],
      "metadata": {
        "id": "UTwAB8ZX5lHQ"
      },
      "execution_count": 39,
      "outputs": []
    },
    {
      "cell_type": "code",
      "source": [
        "print_name()"
      ],
      "metadata": {
        "colab": {
          "base_uri": "https://localhost:8080/"
        },
        "id": "mjz1kSit5pwE",
        "outputId": "488bc19a-eeb2-4eef-d147-dd77d096cb90"
      },
      "execution_count": 40,
      "outputs": [
        {
          "output_type": "stream",
          "name": "stdout",
          "text": [
            "*****\n",
            "hello my name is shrikant\n",
            "*****\n"
          ]
        }
      ]
    }
  ]
}